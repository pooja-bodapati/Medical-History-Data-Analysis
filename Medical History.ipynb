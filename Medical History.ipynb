{
 "cells": [
  {
   "cell_type": "code",
   "execution_count": 1,
   "id": "1188b69a-b870-4575-a9f1-e4b5a11744cc",
   "metadata": {},
   "outputs": [
    {
     "name": "stdout",
     "output_type": "stream",
     "text": [
      "Requirement already satisfied: mysql-connector-python in c:\\users\\pooja\\anaconda3\\lib\\site-packages (9.0.0)\n",
      "Requirement already satisfied: pandas in c:\\users\\pooja\\anaconda3\\lib\\site-packages (2.1.4)\n",
      "Requirement already satisfied: numpy<2,>=1.23.2 in c:\\users\\pooja\\anaconda3\\lib\\site-packages (from pandas) (1.26.4)\n",
      "Requirement already satisfied: python-dateutil>=2.8.2 in c:\\users\\pooja\\anaconda3\\lib\\site-packages (from pandas) (2.8.2)\n",
      "Requirement already satisfied: pytz>=2020.1 in c:\\users\\pooja\\anaconda3\\lib\\site-packages (from pandas) (2023.3.post1)\n",
      "Requirement already satisfied: tzdata>=2022.1 in c:\\users\\pooja\\anaconda3\\lib\\site-packages (from pandas) (2023.3)\n",
      "Requirement already satisfied: six>=1.5 in c:\\users\\pooja\\anaconda3\\lib\\site-packages (from python-dateutil>=2.8.2->pandas) (1.16.0)\n"
     ]
    }
   ],
   "source": [
    "!pip install mysql-connector-python pandas"
   ]
  },
  {
   "cell_type": "code",
   "execution_count": 2,
   "id": "e2766ed0-01fe-471a-b02c-f2dd52b6a1ba",
   "metadata": {},
   "outputs": [],
   "source": [
    "import pandas as pd\n",
    "import seaborn as sns\n",
    "import matplotlib.pyplot as plt\n"
   ]
  },
  {
   "cell_type": "code",
   "execution_count": 7,
   "id": "d7c7cf64-695f-4c1b-9869-24e38f2d9f54",
   "metadata": {},
   "outputs": [],
   "source": [
    "# Define connection parameters\n",
    "host = '18.136.157.135'\n",
    "user = 'dm_team4'\n",
    "password = 'DM!$!Team!47@4!23&'\n",
    "database = 'project_medical_data_history'\n"
   ]
  },
  {
   "cell_type": "code",
   "execution_count": 8,
   "id": "a6e3ac88-fb8c-4e76-bb87-6b48f750603d",
   "metadata": {},
   "outputs": [],
   "source": [
    "import mysql.connector\n",
    "\n",
    "# Connect to the database\n",
    "connection = mysql.connector.connect(\n",
    "    host=host,\n",
    "    user=user,\n",
    "    password=password,\n",
    "    database=database\n",
    ")\n"
   ]
  },
  {
   "cell_type": "code",
   "execution_count": 12,
   "id": "366c1cb3-252e-4aac-b8a8-c1bb2f89e20b",
   "metadata": {},
   "outputs": [],
   "source": [
    "# Create a cursor object\n",
    "cursor = connection.cursor()\n",
    "\n",
    "# Write the query to fetch data\n",
    "query = \"SELECT * FROM admissions\" \n",
    "query = \"SELECT * FROM doctors\"\n",
    "query = \"SELECT * FROM patients\"\n",
    "query = \"SELECT * FROM province_names\"# Replace 'Market' with your actual table name\n",
    "\n",
    "# Execute the query\n",
    "cursor.execute(query)\n",
    "\n",
    "# Fetch all results\n",
    "results = cursor.fetchall()\n",
    "\n",
    "# Get column names from cursor description\n",
    "columns = [desc[0] for desc in cursor.description]"
   ]
  },
  {
   "cell_type": "code",
   "execution_count": 13,
   "id": "a84d4afe-fd4a-44d0-a9cd-48459675b5b4",
   "metadata": {},
   "outputs": [],
   "source": [
    "# Load results into a pandas DataFrame\n",
    "df = pd.DataFrame(results, columns=columns)"
   ]
  },
  {
   "cell_type": "code",
   "execution_count": 14,
   "id": "b4c1c9e0-1462-4003-aa09-0ad270438d2a",
   "metadata": {},
   "outputs": [],
   "source": [
    "# Close the cursor and connection\n",
    "cursor.close()\n",
    "connection.close()\n"
   ]
  },
  {
   "cell_type": "code",
   "execution_count": 15,
   "id": "7f6f8a7e-34b2-48c3-a8f7-fbaf6b2cbd60",
   "metadata": {},
   "outputs": [
    {
     "name": "stdout",
     "output_type": "stream",
     "text": [
      "Data has been successfully exported to 'dataset.csv'\n"
     ]
    }
   ],
   "source": [
    "## 1 # Export the DataFrame to a CSV file\n",
    "df.to_csv('dataset.csv', index=False)\n",
    "print(\"Data has been successfully exported to 'dataset.csv'\")\n"
   ]
  },
  {
   "cell_type": "code",
   "execution_count": null,
   "id": "3d08122e-07c1-4b39-afa6-1bf28ab662d3",
   "metadata": {},
   "outputs": [],
   "source": []
  }
 ],
 "metadata": {
  "kernelspec": {
   "display_name": "Python 3 (ipykernel)",
   "language": "python",
   "name": "python3"
  },
  "language_info": {
   "codemirror_mode": {
    "name": "ipython",
    "version": 3
   },
   "file_extension": ".py",
   "mimetype": "text/x-python",
   "name": "python",
   "nbconvert_exporter": "python",
   "pygments_lexer": "ipython3",
   "version": "3.11.7"
  }
 },
 "nbformat": 4,
 "nbformat_minor": 5
}
